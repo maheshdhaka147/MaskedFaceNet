{
  "nbformat": 4,
  "nbformat_minor": 0,
  "metadata": {
    "accelerator": "GPU",
    "colab": {
      "name": "CreateDataset2Kaggle.ipynb",
      "provenance": [],
      "collapsed_sections": [],
      "machine_shape": "hm"
    },
    "kernelspec": {
      "display_name": "Python 3",
      "name": "python3"
    }
  },
  "cells": [
    {
      "cell_type": "code",
      "metadata": {
        "colab": {
          "base_uri": "https://localhost:8080/"
        },
        "id": "LKChR1iVmoNq",
        "outputId": "7e5f706a-fbe7-46ea-d011-bad276e35092"
      },
      "source": [
        "from google.colab import drive\n",
        "drive.mount('/content/drive')"
      ],
      "execution_count": 1,
      "outputs": [
        {
          "output_type": "stream",
          "text": [
            "Mounted at /content/drive\n"
          ],
          "name": "stdout"
        }
      ]
    },
    {
      "cell_type": "code",
      "metadata": {
        "id": "UGWVTrU3lQQg"
      },
      "source": [
        "import numpy as np\n",
        "import cv2\n",
        "import os\n",
        "from google.colab.patches import cv2_imshow\n",
        "import xml.etree.ElementTree as ET"
      ],
      "execution_count": 2,
      "outputs": []
    },
    {
      "cell_type": "code",
      "metadata": {
        "colab": {
          "base_uri": "https://localhost:8080/"
        },
        "id": "ppYbU7ghlarh",
        "outputId": "b2b4982d-145e-4b25-a0bf-f7a621ce2b9a"
      },
      "source": [
        "!pip install mtcnn\n",
        "from mtcnn import MTCNN\n",
        "detector=MTCNN()"
      ],
      "execution_count": 3,
      "outputs": [
        {
          "output_type": "stream",
          "text": [
            "Collecting mtcnn\n",
            "\u001b[?25l  Downloading https://files.pythonhosted.org/packages/67/43/abee91792797c609c1bf30f1112117f7a87a713ebaa6ec5201d5555a73ef/mtcnn-0.1.0-py3-none-any.whl (2.3MB)\n",
            "\u001b[K     |████████████████████████████████| 2.3MB 5.8MB/s \n",
            "\u001b[?25hRequirement already satisfied: keras>=2.0.0 in /usr/local/lib/python3.7/dist-packages (from mtcnn) (2.4.3)\n",
            "Requirement already satisfied: opencv-python>=4.1.0 in /usr/local/lib/python3.7/dist-packages (from mtcnn) (4.1.2.30)\n",
            "Requirement already satisfied: numpy>=1.9.1 in /usr/local/lib/python3.7/dist-packages (from keras>=2.0.0->mtcnn) (1.19.5)\n",
            "Requirement already satisfied: h5py in /usr/local/lib/python3.7/dist-packages (from keras>=2.0.0->mtcnn) (2.10.0)\n",
            "Requirement already satisfied: pyyaml in /usr/local/lib/python3.7/dist-packages (from keras>=2.0.0->mtcnn) (3.13)\n",
            "Requirement already satisfied: scipy>=0.14 in /usr/local/lib/python3.7/dist-packages (from keras>=2.0.0->mtcnn) (1.4.1)\n",
            "Requirement already satisfied: six in /usr/local/lib/python3.7/dist-packages (from h5py->keras>=2.0.0->mtcnn) (1.15.0)\n",
            "Installing collected packages: mtcnn\n",
            "Successfully installed mtcnn-0.1.0\n"
          ],
          "name": "stdout"
        }
      ]
    },
    {
      "cell_type": "code",
      "metadata": {
        "colab": {
          "base_uri": "https://localhost:8080/",
          "height": 706
        },
        "id": "176UcvLqnZAF",
        "outputId": "0b37e563-b43f-47b8-91dd-ec62766b383e"
      },
      "source": [
        "# Unzip kaggle data and some other data of incorrectly masked faces obtained from kaggle\n",
        "!unzip \"/content/drive/MyDrive/KaggleData.zip\"\n",
        "!unzip \"/content/drive/MyDrive/AdditionalIncorrectFaces.zip\"\n",
        "label_folder=\"/content/annotations/\"\n",
        "image_folder=\"/content/images/\"\n",
        "countwithmask=0\n",
        "countincorrectmask=0\n",
        "countwithoutmask=0\n",
        "labelFiles=os.listdir(label_folder)\n",
        "imageFiles=os.listdir(image_folder)\n",
        "# The dataset has three labels but we only need two\n",
        "maskValue={\n",
        "    'without_mask':1,\n",
        "    'mask_weared_incorrect':1,\n",
        "    'with_mask':0\n",
        "}\n",
        "correctCount=0\n",
        "incorrectCount=0\n",
        "CorrectFeatures=[]\n",
        "IncorrectFeatures=[]\n",
        "CorrectLabels=[]\n",
        "IncorrectLabels=[]\n",
        "LabelNames=[]\n",
        "for i in range(len(labelFiles)):\n",
        "  img=cv2.imread(image_folder+imageFiles[i]) \n",
        "  mylabelfile=imageFiles[i].replace(\".png\",\"\")\n",
        "  mylabelfile=mylabelfile+\".xml\"\n",
        "  tree = ET.parse(label_folder+mylabelfile)\n",
        "  root = tree.getroot()\n",
        "  for object in root.findall('object'):\n",
        "    name=object.find('name').text\n",
        "    label=maskValue[name]\n",
        "    # Get face image coordinateds using provided xml file along with the kaggle data\n",
        "    for bndbox in object.findall(\"bndbox\"):\n",
        "      xmin=int(bndbox.find('xmin').text)\n",
        "      xmax=int(bndbox.find('xmax').text)\n",
        "      ymin=int(bndbox.find('ymin').text)\n",
        "      ymax=int(bndbox.find('ymax').text)\n",
        "    if xmax-xmin>=16 and ymax-ymin>=16:\n",
        "      try:\n",
        "        myimg=img[ymin:ymax,xmin:xmax,:]\n",
        "        img_rgb=cv2.cvtColor(myimg,cv2.COLOR_BGR2RGB)\n",
        "        \n",
        "\n",
        "        myimg=cv2.resize(myimg,(16,16))\n",
        "        myimg=np.dot(myimg[...,:3], [0.299, 0.587, 0.144])  # Reshape kaggle data\n",
        "\n",
        "        if name==\"without_mask\":\n",
        "          countwithoutmask=countwithoutmask+1\n",
        "          IncorrectFeatures.append(myimg)\n",
        "          IncorrectLabels.append(label)\n",
        "        elif name==\"mask_weared_incorrect\":\n",
        "          countincorrectmask=countincorrectmask+1\n",
        "          IncorrectFeatures.append(myimg)\n",
        "          IncorrectLabels.append(label)\n",
        "        elif name==\"with_mask\":\n",
        "          countwithmask=countwithmask+1\n",
        "          CorrectFeatures.append(myimg)\n",
        "          CorrectLabels.append(label)\n",
        "        LabelNames.append(name)\n",
        "      except:\n",
        "        print(\"Error\")\n",
        "\n",
        "# Because kaggle data have very few images of incorrecly masked faces. Lets merge it with some more incorrectly masked images\n",
        "folder_path=\"/content/AdditionalIncorrectFaces/\"\n",
        "files=os.listdir(folder_path)\n",
        "for myfile in files:\n",
        "  img=cv2.imread(folder_path+myfile)\n",
        "  reshaped_image=np.dot(img[...,:3], [0.299, 0.587, 0.144])\n",
        "  cropped_img=cv2.resize(reshaped_image,(16,16))\n",
        "  cv2_imshow(cropped_img)\n",
        "  IncorrectFeatures.append(cropped_img)\n",
        "  IncorrectLabels.append(1)\n",
        "    \n",
        "\n",
        "CorrectFeatures=np.asarray(CorrectFeatures)\n",
        "IncorrectFeatures=np.asarray(IncorrectFeatures)\n",
        "CorrectLabels=np.asarray(CorrectLabels)\n",
        "IncorrectLabels=np.asarray(IncorrectLabels)"
      ],
      "execution_count": 5,
      "outputs": [
        {
          "output_type": "stream",
          "text": [
            "Archive:  /content/drive/MyDrive/KaggleData.zip\n",
            "replace annotations/maksssksksss0.xml? [y]es, [n]o, [A]ll, [N]one, [r]ename: N\n",
            "Archive:  /content/drive/MyDrive/AdditionalIncorrectFaces.zip\n",
            "replace AdditionalIncorrectFaces/0_0_0 copy 3.jpg? [y]es, [n]o, [A]ll, [N]one, [r]ename: N\n"
          ],
          "name": "stdout"
        },
        {
          "output_type": "display_data",
          "data": {
            "image/png": "[encoded data removed]",
            "text/plain": [
              "<PIL.Image.Image image mode=L size=16x16 at 0x7F17EE634CD0>"
            ]
          },
          "metadata": {
            "tags": []
          }
        },
        {
          "output_type": "display_data",
          "data": {
            "image/png": "[encoded data removed]",
            "text/plain": [
              "<PIL.Image.Image image mode=L size=16x16 at 0x7F17EE634E50>"
            ]
          },
          "metadata": {
            "tags": []
          }
        },
        {
          "output_type": "display_data",
          "data": {
            "image/png": "[encoded data removed]",
            "text/plain": [
              "<PIL.Image.Image image mode=L size=16x16 at 0x7F17EE634E10>"
            ]
          },
          "metadata": {
            "tags": []
          }
        },
        {
          "output_type": "display_data",
          "data": {
            "image/png": "[encoded data removed]",
            "text/plain": [
              "<PIL.Image.Image image mode=L size=16x16 at 0x7F17EE6345D0>"
            ]
          },
          "metadata": {
            "tags": []
          }
        },
        {
          "output_type": "display_data",
          "data": {
            "image/png": "[encoded data removed]",
            "text/plain": [
              "<PIL.Image.Image image mode=L size=16x16 at 0x7F17EE634950>"
            ]
          },
          "metadata": {
            "tags": []
          }
        },
        {
          "output_type": "display_data",
          "data": {
            "image/png": "[encoded data removed]",
            "text/plain": [
              "<PIL.Image.Image image mode=L size=16x16 at 0x7F17EE634690>"
            ]
          },
          "metadata": {
            "tags": []
          }
        },
        {
          "output_type": "display_data",
          "data": {
            "image/png": "[encoded data removed]",
            "text/plain": [
              "<PIL.Image.Image image mode=L size=16x16 at 0x7F17EE634350>"
            ]
          },
          "metadata": {
            "tags": []
          }
        },
        {
          "output_type": "display_data",
          "data": {
            "image/png": "[encoded data removed]",
            "text/plain": [
              "<PIL.Image.Image image mode=L size=16x16 at 0x7F17EE6340D0>"
            ]
          },
          "metadata": {
            "tags": []
          }
        },
        {
          "output_type": "display_data",
          "data": {
            "image/png": "[encoded data removed]",
            "text/plain": [
              "<PIL.Image.Image image mode=L size=16x16 at 0x7F17EE634FD0>"
            ]
          },
          "metadata": {
            "tags": []
          }
        },
        {
          "output_type": "display_data",
          "data": {
            "image/png": "[encoded data removed]",
            "text/plain": [
              "<PIL.Image.Image image mode=L size=16x16 at 0x7F17EE634E50>"
            ]
          },
          "metadata": {
            "tags": []
          }
        },
        {
          "output_type": "display_data",
          "data": {
            "image/png": "[encoded data removed]",
            "text/plain": [
              "<PIL.Image.Image image mode=L size=16x16 at 0x7F17EE634690>"
            ]
          },
          "metadata": {
            "tags": []
          }
        },
        {
          "output_type": "display_data",
          "data": {
            "image/png": "[encoded data removed]",
            "text/plain": [
              "<PIL.Image.Image image mode=L size=16x16 at 0x7F17EE6342D0>"
            ]
          },
          "metadata": {
            "tags": []
          }
        },
        {
          "output_type": "display_data",
          "data": {
            "image/png": "[encoded data removed]",
            "text/plain": [
              "<PIL.Image.Image image mode=L size=16x16 at 0x7F17EE634C90>"
            ]
          },
          "metadata": {
            "tags": []
          }
        },
        {
          "output_type": "display_data",
          "data": {
            "image/png": "[encoded data removed]",
            "text/plain": [
              "<PIL.Image.Image image mode=L size=16x16 at 0x7F17EE634B90>"
            ]
          },
          "metadata": {
            "tags": []
          }
        },
        {
          "output_type": "display_data",
          "data": {
            "image/png": "[encoded data removed]",
            "text/plain": [
              "<PIL.Image.Image image mode=L size=16x16 at 0x7F17EE634490>"
            ]
          },
          "metadata": {
            "tags": []
          }
        },
        {
          "output_type": "display_data",
          "data": {
            "image/png": "[encoded data removed]",
            "text/plain": [
              "<PIL.Image.Image image mode=L size=16x16 at 0x7F17EE634B90>"
            ]
          },
          "metadata": {
            "tags": []
          }
        },
        {
          "output_type": "display_data",
          "data": {
            "image/png": "[encoded data removed]",
            "text/plain": [
              "<PIL.Image.Image image mode=L size=16x16 at 0x7F17EE634E10>"
            ]
          },
          "metadata": {
            "tags": []
          }
        },
        {
          "output_type": "display_data",
          "data": {
            "image/png": "[encoded data removed]",
            "text/plain": [
              "<PIL.Image.Image image mode=L size=16x16 at 0x7F17EE634A90>"
            ]
          },
          "metadata": {
            "tags": []
          }
        },
        {
          "output_type": "display_data",
          "data": {
            "image/png": "[encoded data removed]",
            "text/plain": [
              "<PIL.Image.Image image mode=L size=16x16 at 0x7F17EE634890>"
            ]
          },
          "metadata": {
            "tags": []
          }
        },
        {
          "output_type": "display_data",
          "data": {
            "image/png": "[encoded data removed]",
            "text/plain": [
              "<PIL.Image.Image image mode=L size=16x16 at 0x7F17EE6345D0>"
            ]
          },
          "metadata": {
            "tags": []
          }
        },
        {
          "output_type": "display_data",
          "data": {
            "image/png": "[encoded data removed]",
            "text/plain": [
              "<PIL.Image.Image image mode=L size=16x16 at 0x7F17EE634FD0>"
            ]
          },
          "metadata": {
            "tags": []
          }
        },
        {
          "output_type": "display_data",
          "data": {
            "image/png": "[encoded data removed]",
            "text/plain": [
              "<PIL.Image.Image image mode=L size=16x16 at 0x7F17EE6340D0>"
            ]
          },
          "metadata": {
            "tags": []
          }
        },
        {
          "output_type": "display_data",
          "data": {
            "image/png": "[encoded data removed]",
            "text/plain": [
              "<PIL.Image.Image image mode=L size=16x16 at 0x7F17EE634690>"
            ]
          },
          "metadata": {
            "tags": []
          }
        },
        {
          "output_type": "display_data",
          "data": {
            "image/png": "[encoded data removed]",
            "text/plain": [
              "<PIL.Image.Image image mode=L size=16x16 at 0x7F17EE6349D0>"
            ]
          },
          "metadata": {
            "tags": []
          }
        },
        {
          "output_type": "display_data",
          "data": {
            "image/png": "[encoded data removed]",
            "text/plain": [
              "<PIL.Image.Image image mode=L size=16x16 at 0x7F17EE634ED0>"
            ]
          },
          "metadata": {
            "tags": []
          }
        },
        {
          "output_type": "display_data",
          "data": {
            "image/png": "[encoded data removed]",
            "text/plain": [
              "<PIL.Image.Image image mode=L size=16x16 at 0x7F17EE6340D0>"
            ]
          },
          "metadata": {
            "tags": []
          }
        },
        {
          "output_type": "display_data",
          "data": {
            "image/png": "[encoded data removed]",
            "text/plain": [
              "<PIL.Image.Image image mode=L size=16x16 at 0x7F17EE634E10>"
            ]
          },
          "metadata": {
            "tags": []
          }
        },
        {
          "output_type": "display_data",
          "data": {
            "image/png": "[encoded data removed]",
            "text/plain": [
              "<PIL.Image.Image image mode=L size=16x16 at 0x7F17EE634B90>"
            ]
          },
          "metadata": {
            "tags": []
          }
        },
        {
          "output_type": "display_data",
          "data": {
            "image/png": "[encoded data removed]",
            "text/plain": [
              "<PIL.Image.Image image mode=L size=16x16 at 0x7F17EE634990>"
            ]
          },
          "metadata": {
            "tags": []
          }
        },
        {
          "output_type": "display_data",
          "data": {
            "image/png": "[encoded data removed]",
            "text/plain": [
              "<PIL.Image.Image image mode=L size=16x16 at 0x7F17EE634350>"
            ]
          },
          "metadata": {
            "tags": []
          }
        },
        {
          "output_type": "display_data",
          "data": {
            "image/png": "[encoded data removed]",
            "text/plain": [
              "<PIL.Image.Image image mode=L size=16x16 at 0x7F17EE634FD0>"
            ]
          },
          "metadata": {
            "tags": []
          }
        },
        {
          "output_type": "display_data",
          "data": {
            "image/png": "[encoded data removed]",
            "text/plain": [
              "<PIL.Image.Image image mode=L size=16x16 at 0x7F17EE634350>"
            ]
          },
          "metadata": {
            "tags": []
          }
        },
        {
          "output_type": "display_data",
          "data": {
            "image/png": "[encoded data removed]",
            "text/plain": [
              "<PIL.Image.Image image mode=L size=16x16 at 0x7F17EE634E10>"
            ]
          },
          "metadata": {
            "tags": []
          }
        },
        {
          "output_type": "display_data",
          "data": {
            "image/png": "[encoded data removed]",
            "text/plain": [
              "<PIL.Image.Image image mode=L size=16x16 at 0x7F17EE634ED0>"
            ]
          },
          "metadata": {
            "tags": []
          }
        },
        {
          "output_type": "display_data",
          "data": {
            "image/png": "[encoded data removed]",
            "text/plain": [
              "<PIL.Image.Image image mode=L size=16x16 at 0x7F17EE6349D0>"
            ]
          },
          "metadata": {
            "tags": []
          }
        },
        {
          "output_type": "display_data",
          "data": {
            "image/png": "[encoded data removed]",
            "text/plain": [
              "<PIL.Image.Image image mode=L size=16x16 at 0x7F17EE634C90>"
            ]
          },
          "metadata": {
            "tags": []
          }
        },
        {
          "output_type": "display_data",
          "data": {
            "image/png": "[encoded data removed]",
            "text/plain": [
              "<PIL.Image.Image image mode=L size=16x16 at 0x7F17EE634350>"
            ]
          },
          "metadata": {
            "tags": []
          }
        }
      ]
    },
    {
      "cell_type": "code",
      "metadata": {
        "colab": {
          "base_uri": "https://localhost:8080/"
        },
        "id": "LsRk2mF5GxSt",
        "outputId": "b4fcb1d9-45df-4fe7-d4da-6a6a56a71f8f"
      },
      "source": [
        "print(\"Correct Data Shape\",CorrectFeatures.shape,\"Incorrect Data Shape\",IncorrectFeatures.shape)"
      ],
      "execution_count": 7,
      "outputs": [
        {
          "output_type": "stream",
          "text": [
            "Correct Data Shape (2287, 16, 16) Incorrect Data Shape (550, 16, 16)\n"
          ],
          "name": "stdout"
        }
      ]
    },
    {
      "cell_type": "code",
      "metadata": {
        "colab": {
          "base_uri": "https://localhost:8080/",
          "height": 34
        },
        "id": "4HQ8GnkMoRGz",
        "outputId": "db2ae532-bc8c-4c4a-9c32-25824b1272bd"
      },
      "source": [
        "cv2_imshow(CorrectFeatures[0])"
      ],
      "execution_count": 8,
      "outputs": [
        {
          "output_type": "display_data",
          "data": {
            "image/png": "[encoded data removed]",
            "text/plain": [
              "<PIL.Image.Image image mode=L size=16x16 at 0x7F17EE75EA90>"
            ]
          },
          "metadata": {
            "tags": []
          }
        }
      ]
    },
    {
      "cell_type": "code",
      "metadata": {
        "colab": {
          "base_uri": "https://localhost:8080/",
          "height": 34
        },
        "id": "hbp_UIH0HK-m",
        "outputId": "aee65f5c-a7fe-4037-fb2f-d65813f4dfa2"
      },
      "source": [
        "cv2_imshow(IncorrectFeatures[0])"
      ],
      "execution_count": 9,
      "outputs": [
        {
          "output_type": "display_data",
          "data": {
            "image/png": "[encoded data removed]",
            "text/plain": [
              "<PIL.Image.Image image mode=L size=16x16 at 0x7F17EE5C2D90>"
            ]
          },
          "metadata": {
            "tags": []
          }
        }
      ]
    },
    {
      "cell_type": "code",
      "metadata": {
        "id": "ATa1uwcisHbj"
      },
      "source": [
        "# Reshape correcly and incorrectly masked faces\n",
        "CorrectFeatures=np.reshape(CorrectFeatures,(CorrectFeatures.shape[0],CorrectFeatures.shape[1],CorrectFeatures.shape[2],1))\n",
        "IncorrectFeatures=np.reshape(IncorrectFeatures,(IncorrectFeatures.shape[0],IncorrectFeatures.shape[1],IncorrectFeatures.shape[2],1))"
      ],
      "execution_count": 10,
      "outputs": []
    },
    {
      "cell_type": "code",
      "metadata": {
        "colab": {
          "base_uri": "https://localhost:8080/"
        },
        "id": "f240sPezHzBH",
        "outputId": "e019efdf-b487-4c68-fb04-9ec96edc2f91"
      },
      "source": [
        "print(\"Correct Data Shape\",CorrectFeatures.shape,\"Incorrect Data Shape\",IncorrectFeatures.shape)"
      ],
      "execution_count": 11,
      "outputs": [
        {
          "output_type": "stream",
          "text": [
            "Correct Data Shape (2287, 16, 16, 1) Incorrect Data Shape (550, 16, 16, 1)\n"
          ],
          "name": "stdout"
        }
      ]
    },
    {
      "cell_type": "code",
      "metadata": {
        "id": "a0AqIgFVH7gW"
      },
      "source": [
        "# Save correctly and incorrectly masked features\n",
        "from numpy import savez_compressed\n",
        "savez_compressed('/content/drive/MyDrive/MSProjectData/Dataset2/Correct/correct_features.npz', CorrectFeatures)\n",
        "savez_compressed('/content/drive/MyDrive/MSProjectData/Dataset2/Incorrect/incorrect_features.npz', IncorrectFeatures)"
      ],
      "execution_count": 13,
      "outputs": []
    }
  ]
}